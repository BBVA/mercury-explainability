{
 "cells": [
  {
   "cell_type": "markdown",
   "metadata": {
    "id": "CszQ4Djjjce7"
   },
   "source": [
    "In this tutorial we explain we show how to use the `ShuffleImportanceExplainer` to obtain feature importances of our model. This explainer estimates the feature importances by randomly shuffling one feature at a time and, on each step, checking how much a particular metric worses. In this way the features which make the model to perform the worst are the most important ones.\n",
    "\n",
    "This method can be used in a given black-box model. In this tutorial, we will use it with a neural network model."
   ]
  },
  {
   "cell_type": "code",
   "execution_count": 1,
   "metadata": {
    "id": "HKG7z18djce8"
   },
   "outputs": [],
   "source": [
    "import numpy as np\n",
    "import pandas as pd\n",
    "from sklearn.model_selection import train_test_split"
   ]
  },
  {
   "cell_type": "markdown",
   "metadata": {
    "id": "dxZ7OfZRjce9"
   },
   "source": [
    "## Load Dataset\n",
    "\n",
    "We will use the default credit card Dataset from the UCI machine learning repository. The dataset was used in [1]"
   ]
  },
  {
   "cell_type": "code",
   "execution_count": 2,
   "metadata": {
    "id": "_8S3irJ2kndw"
   },
   "outputs": [],
   "source": [
    "path_dataset = \"./data/credit/\"\n",
    "uci_credit = pd.read_csv(path_dataset + \"UCI_Credit_card.csv\")\n",
    "uci_credit = uci_credit.drop('ID', axis=1)\n",
    "\n",
    "uci_credit[\"SEX\"] = uci_credit[\"SEX\"].astype(str)\n",
    "uci_credit[\"EDUCATION\"] = uci_credit[\"EDUCATION\"].astype(str)\n",
    "uci_credit[\"MARRIAGE\"] = uci_credit[\"MARRIAGE\"].astype(str)"
   ]
  },
  {
   "cell_type": "code",
   "execution_count": 3,
   "metadata": {
    "colab": {
     "base_uri": "https://localhost:8080/"
    },
    "id": "sFgx-wjIjce-",
    "outputId": "6931873e-db62-4bc1-adbb-158fc25e91bb"
   },
   "outputs": [
    {
     "name": "stdout",
     "output_type": "stream",
     "text": [
      "(21000, 24)\n",
      "(9000, 24)\n"
     ]
    }
   ],
   "source": [
    "df_train, df_test = train_test_split(uci_credit, test_size=0.3, random_state=2000)\n",
    "print(df_train.shape)\n",
    "print(df_test.shape)"
   ]
  },
  {
   "cell_type": "code",
   "execution_count": 4,
   "metadata": {
    "colab": {
     "base_uri": "https://localhost:8080/",
     "height": 300
    },
    "id": "CCjf052kjce-",
    "outputId": "6f0bd954-224d-4ae4-8805-58c4d3e6a562"
   },
   "outputs": [
    {
     "data": {
      "text/html": [
       "\n",
       "  <div id=\"df-ae43486c-7843-4fbc-9905-86533898095b\">\n",
       "    <div class=\"colab-df-container\">\n",
       "      <div>\n",
       "<style scoped>\n",
       "    .dataframe tbody tr th:only-of-type {\n",
       "        vertical-align: middle;\n",
       "    }\n",
       "\n",
       "    .dataframe tbody tr th {\n",
       "        vertical-align: top;\n",
       "    }\n",
       "\n",
       "    .dataframe thead th {\n",
       "        text-align: right;\n",
       "    }\n",
       "</style>\n",
       "<table border=\"1\" class=\"dataframe\">\n",
       "  <thead>\n",
       "    <tr style=\"text-align: right;\">\n",
       "      <th></th>\n",
       "      <th>LIMIT_BAL</th>\n",
       "      <th>SEX</th>\n",
       "      <th>EDUCATION</th>\n",
       "      <th>MARRIAGE</th>\n",
       "      <th>AGE</th>\n",
       "      <th>PAY_0</th>\n",
       "      <th>PAY_2</th>\n",
       "      <th>PAY_3</th>\n",
       "      <th>PAY_4</th>\n",
       "      <th>PAY_5</th>\n",
       "      <th>...</th>\n",
       "      <th>BILL_AMT4</th>\n",
       "      <th>BILL_AMT5</th>\n",
       "      <th>BILL_AMT6</th>\n",
       "      <th>PAY_AMT1</th>\n",
       "      <th>PAY_AMT2</th>\n",
       "      <th>PAY_AMT3</th>\n",
       "      <th>PAY_AMT4</th>\n",
       "      <th>PAY_AMT5</th>\n",
       "      <th>PAY_AMT6</th>\n",
       "      <th>default.payment.next.month</th>\n",
       "    </tr>\n",
       "  </thead>\n",
       "  <tbody>\n",
       "    <tr>\n",
       "      <th>15639</th>\n",
       "      <td>270000.0</td>\n",
       "      <td>2</td>\n",
       "      <td>2</td>\n",
       "      <td>1</td>\n",
       "      <td>32</td>\n",
       "      <td>2</td>\n",
       "      <td>0</td>\n",
       "      <td>0</td>\n",
       "      <td>0</td>\n",
       "      <td>0</td>\n",
       "      <td>...</td>\n",
       "      <td>275560.0</td>\n",
       "      <td>243792.0</td>\n",
       "      <td>251098.0</td>\n",
       "      <td>11000.0</td>\n",
       "      <td>12000.0</td>\n",
       "      <td>11000.0</td>\n",
       "      <td>8700.0</td>\n",
       "      <td>11077.0</td>\n",
       "      <td>34000.0</td>\n",
       "      <td>0</td>\n",
       "    </tr>\n",
       "    <tr>\n",
       "      <th>29049</th>\n",
       "      <td>500000.0</td>\n",
       "      <td>2</td>\n",
       "      <td>3</td>\n",
       "      <td>1</td>\n",
       "      <td>54</td>\n",
       "      <td>-2</td>\n",
       "      <td>-2</td>\n",
       "      <td>-2</td>\n",
       "      <td>-2</td>\n",
       "      <td>-2</td>\n",
       "      <td>...</td>\n",
       "      <td>0.0</td>\n",
       "      <td>0.0</td>\n",
       "      <td>0.0</td>\n",
       "      <td>0.0</td>\n",
       "      <td>0.0</td>\n",
       "      <td>0.0</td>\n",
       "      <td>0.0</td>\n",
       "      <td>0.0</td>\n",
       "      <td>0.0</td>\n",
       "      <td>1</td>\n",
       "    </tr>\n",
       "    <tr>\n",
       "      <th>5872</th>\n",
       "      <td>80000.0</td>\n",
       "      <td>2</td>\n",
       "      <td>3</td>\n",
       "      <td>2</td>\n",
       "      <td>30</td>\n",
       "      <td>0</td>\n",
       "      <td>0</td>\n",
       "      <td>0</td>\n",
       "      <td>-1</td>\n",
       "      <td>0</td>\n",
       "      <td>...</td>\n",
       "      <td>28698.0</td>\n",
       "      <td>29299.0</td>\n",
       "      <td>30120.0</td>\n",
       "      <td>2165.0</td>\n",
       "      <td>2774.0</td>\n",
       "      <td>30458.0</td>\n",
       "      <td>1063.0</td>\n",
       "      <td>1308.0</td>\n",
       "      <td>4317.0</td>\n",
       "      <td>0</td>\n",
       "    </tr>\n",
       "    <tr>\n",
       "      <th>442</th>\n",
       "      <td>30000.0</td>\n",
       "      <td>2</td>\n",
       "      <td>1</td>\n",
       "      <td>2</td>\n",
       "      <td>26</td>\n",
       "      <td>1</td>\n",
       "      <td>-2</td>\n",
       "      <td>-1</td>\n",
       "      <td>-1</td>\n",
       "      <td>-1</td>\n",
       "      <td>...</td>\n",
       "      <td>0.0</td>\n",
       "      <td>197.0</td>\n",
       "      <td>2995.0</td>\n",
       "      <td>0.0</td>\n",
       "      <td>945.0</td>\n",
       "      <td>0.0</td>\n",
       "      <td>197.0</td>\n",
       "      <td>2995.0</td>\n",
       "      <td>0.0</td>\n",
       "      <td>0</td>\n",
       "    </tr>\n",
       "    <tr>\n",
       "      <th>19499</th>\n",
       "      <td>360000.0</td>\n",
       "      <td>2</td>\n",
       "      <td>1</td>\n",
       "      <td>2</td>\n",
       "      <td>27</td>\n",
       "      <td>1</td>\n",
       "      <td>-2</td>\n",
       "      <td>-2</td>\n",
       "      <td>-2</td>\n",
       "      <td>-2</td>\n",
       "      <td>...</td>\n",
       "      <td>0.0</td>\n",
       "      <td>0.0</td>\n",
       "      <td>0.0</td>\n",
       "      <td>0.0</td>\n",
       "      <td>0.0</td>\n",
       "      <td>0.0</td>\n",
       "      <td>0.0</td>\n",
       "      <td>0.0</td>\n",
       "      <td>0.0</td>\n",
       "      <td>0</td>\n",
       "    </tr>\n",
       "  </tbody>\n",
       "</table>\n",
       "<p>5 rows × 24 columns</p>\n",
       "</div>\n",
       "      <button class=\"colab-df-convert\" onclick=\"convertToInteractive('df-ae43486c-7843-4fbc-9905-86533898095b')\"\n",
       "              title=\"Convert this dataframe to an interactive table.\"\n",
       "              style=\"display:none;\">\n",
       "        \n",
       "  <svg xmlns=\"http://www.w3.org/2000/svg\" height=\"24px\"viewBox=\"0 0 24 24\"\n",
       "       width=\"24px\">\n",
       "    <path d=\"M0 0h24v24H0V0z\" fill=\"none\"/>\n",
       "    <path d=\"M18.56 5.44l.94 2.06.94-2.06 2.06-.94-2.06-.94-.94-2.06-.94 2.06-2.06.94zm-11 1L8.5 8.5l.94-2.06 2.06-.94-2.06-.94L8.5 2.5l-.94 2.06-2.06.94zm10 10l.94 2.06.94-2.06 2.06-.94-2.06-.94-.94-2.06-.94 2.06-2.06.94z\"/><path d=\"M17.41 7.96l-1.37-1.37c-.4-.4-.92-.59-1.43-.59-.52 0-1.04.2-1.43.59L10.3 9.45l-7.72 7.72c-.78.78-.78 2.05 0 2.83L4 21.41c.39.39.9.59 1.41.59.51 0 1.02-.2 1.41-.59l7.78-7.78 2.81-2.81c.8-.78.8-2.07 0-2.86zM5.41 20L4 18.59l7.72-7.72 1.47 1.35L5.41 20z\"/>\n",
       "  </svg>\n",
       "      </button>\n",
       "      \n",
       "  <style>\n",
       "    .colab-df-container {\n",
       "      display:flex;\n",
       "      flex-wrap:wrap;\n",
       "      gap: 12px;\n",
       "    }\n",
       "\n",
       "    .colab-df-convert {\n",
       "      background-color: #E8F0FE;\n",
       "      border: none;\n",
       "      border-radius: 50%;\n",
       "      cursor: pointer;\n",
       "      display: none;\n",
       "      fill: #1967D2;\n",
       "      height: 32px;\n",
       "      padding: 0 0 0 0;\n",
       "      width: 32px;\n",
       "    }\n",
       "\n",
       "    .colab-df-convert:hover {\n",
       "      background-color: #E2EBFA;\n",
       "      box-shadow: 0px 1px 2px rgba(60, 64, 67, 0.3), 0px 1px 3px 1px rgba(60, 64, 67, 0.15);\n",
       "      fill: #174EA6;\n",
       "    }\n",
       "\n",
       "    [theme=dark] .colab-df-convert {\n",
       "      background-color: #3B4455;\n",
       "      fill: #D2E3FC;\n",
       "    }\n",
       "\n",
       "    [theme=dark] .colab-df-convert:hover {\n",
       "      background-color: #434B5C;\n",
       "      box-shadow: 0px 1px 3px 1px rgba(0, 0, 0, 0.15);\n",
       "      filter: drop-shadow(0px 1px 2px rgba(0, 0, 0, 0.3));\n",
       "      fill: #FFFFFF;\n",
       "    }\n",
       "  </style>\n",
       "\n",
       "      <script>\n",
       "        const buttonEl =\n",
       "          document.querySelector('#df-ae43486c-7843-4fbc-9905-86533898095b button.colab-df-convert');\n",
       "        buttonEl.style.display =\n",
       "          google.colab.kernel.accessAllowed ? 'block' : 'none';\n",
       "\n",
       "        async function convertToInteractive(key) {\n",
       "          const element = document.querySelector('#df-ae43486c-7843-4fbc-9905-86533898095b');\n",
       "          const dataTable =\n",
       "            await google.colab.kernel.invokeFunction('convertToInteractive',\n",
       "                                                     [key], {});\n",
       "          if (!dataTable) return;\n",
       "\n",
       "          const docLinkHtml = 'Like what you see? Visit the ' +\n",
       "            '<a target=\"_blank\" href=https://colab.research.google.com/notebooks/data_table.ipynb>data table notebook</a>'\n",
       "            + ' to learn more about interactive tables.';\n",
       "          element.innerHTML = '';\n",
       "          dataTable['output_type'] = 'display_data';\n",
       "          await google.colab.output.renderOutput(dataTable, element);\n",
       "          const docLink = document.createElement('div');\n",
       "          docLink.innerHTML = docLinkHtml;\n",
       "          element.appendChild(docLink);\n",
       "        }\n",
       "      </script>\n",
       "    </div>\n",
       "  </div>\n",
       "  "
      ],
      "text/plain": [
       "       LIMIT_BAL SEX EDUCATION MARRIAGE  AGE  PAY_0  PAY_2  PAY_3  PAY_4  \\\n",
       "15639   270000.0   2         2        1   32      2      0      0      0   \n",
       "29049   500000.0   2         3        1   54     -2     -2     -2     -2   \n",
       "5872     80000.0   2         3        2   30      0      0      0     -1   \n",
       "442      30000.0   2         1        2   26      1     -2     -1     -1   \n",
       "19499   360000.0   2         1        2   27      1     -2     -2     -2   \n",
       "\n",
       "       PAY_5  ...  BILL_AMT4  BILL_AMT5  BILL_AMT6  PAY_AMT1  PAY_AMT2  \\\n",
       "15639      0  ...   275560.0   243792.0   251098.0   11000.0   12000.0   \n",
       "29049     -2  ...        0.0        0.0        0.0       0.0       0.0   \n",
       "5872       0  ...    28698.0    29299.0    30120.0    2165.0    2774.0   \n",
       "442       -1  ...        0.0      197.0     2995.0       0.0     945.0   \n",
       "19499     -2  ...        0.0        0.0        0.0       0.0       0.0   \n",
       "\n",
       "       PAY_AMT3  PAY_AMT4  PAY_AMT5  PAY_AMT6  default.payment.next.month  \n",
       "15639   11000.0    8700.0   11077.0   34000.0                           0  \n",
       "29049       0.0       0.0       0.0       0.0                           1  \n",
       "5872    30458.0    1063.0    1308.0    4317.0                           0  \n",
       "442         0.0     197.0    2995.0       0.0                           0  \n",
       "19499       0.0       0.0       0.0       0.0                           0  \n",
       "\n",
       "[5 rows x 24 columns]"
      ]
     },
     "execution_count": 4,
     "metadata": {},
     "output_type": "execute_result"
    }
   ],
   "source": [
    "df_train.head()"
   ]
  },
  {
   "cell_type": "markdown",
   "metadata": {
    "id": "_ENT2nGNjce-"
   },
   "source": [
    "Let's see the correlation of the features with the target"
   ]
  },
  {
   "cell_type": "code",
   "execution_count": 5,
   "metadata": {
    "id": "DIpSWn8OnhkS"
   },
   "outputs": [],
   "source": [
    "pay_feats = [c for c in df_train.columns if \"PAY_\" in c]\n",
    "bill_feats = [c for c in df_train.columns if \"BILL_\" in c]\n",
    "num_feats = ['LIMIT_BAL', 'AGE'] + pay_feats + bill_feats\n",
    "\n",
    "cat_feats = ['SEX', 'EDUCATION', 'MARRIAGE']\n",
    "\n",
    "label_col = \"default.payment.next.month\""
   ]
  },
  {
   "cell_type": "code",
   "execution_count": 6,
   "metadata": {
    "colab": {
     "base_uri": "https://localhost:8080/"
    },
    "id": "VWtHKG1Hjce_",
    "outputId": "095dd83d-9439-443d-ace4-49f63d5912f5"
   },
   "outputs": [
    {
     "name": "stderr",
     "output_type": "stream",
     "text": [
      "<ipython-input-6-940cd4f2efd5>:1: FutureWarning: The default value of numeric_only in DataFrame.corr is deprecated. In a future version, it will default to False. Select only valid columns or specify the value of numeric_only to silence this warning.\n",
      "  df_train.corr()[label_col].sort_values()\n"
     ]
    },
    {
     "data": {
      "text/plain": [
       "LIMIT_BAL                    -0.146815\n",
       "PAY_AMT1                     -0.073130\n",
       "PAY_AMT3                     -0.061078\n",
       "PAY_AMT2                     -0.057215\n",
       "PAY_AMT4                     -0.057146\n",
       "PAY_AMT5                     -0.055810\n",
       "PAY_AMT6                     -0.051625\n",
       "BILL_AMT1                    -0.021519\n",
       "BILL_AMT2                    -0.017002\n",
       "BILL_AMT3                    -0.016573\n",
       "BILL_AMT4                    -0.013658\n",
       "BILL_AMT5                    -0.008171\n",
       "BILL_AMT6                    -0.007178\n",
       "AGE                           0.019424\n",
       "PAY_6                         0.186807\n",
       "PAY_5                         0.202506\n",
       "PAY_4                         0.219943\n",
       "PAY_3                         0.239534\n",
       "PAY_2                         0.264153\n",
       "PAY_0                         0.322071\n",
       "default.payment.next.month    1.000000\n",
       "Name: default.payment.next.month, dtype: float64"
      ]
     },
     "execution_count": 6,
     "metadata": {},
     "output_type": "execute_result"
    }
   ],
   "source": [
    "df_train.corr()[label_col].sort_values()"
   ]
  },
  {
   "cell_type": "markdown",
   "metadata": {
    "id": "mW9VSihYqTVt"
   },
   "source": [
    "We see that the feature that has strongest correlation with the target is `PAY_0`"
   ]
  },
  {
   "cell_type": "markdown",
   "metadata": {
    "id": "CZ7B68Fnjce_"
   },
   "source": [
    "## Preprocess Dataset"
   ]
  },
  {
   "cell_type": "markdown",
   "metadata": {
    "id": "rOMC6elyjcfA"
   },
   "source": [
    "Now, let's create a preprocessing pipeline to scale numeric features and perform one-hot encoding to categorical features:"
   ]
  },
  {
   "cell_type": "code",
   "execution_count": 8,
   "metadata": {
    "id": "OPinNRFRjcfA"
   },
   "outputs": [],
   "source": [
    "from sklearn.preprocessing import StandardScaler, OneHotEncoder\n",
    "from sklearn.pipeline import Pipeline\n",
    "from sklearn.compose import ColumnTransformer\n",
    "\n",
    "numeric_transformer = Pipeline(steps=[(\"scaler\", StandardScaler())])\n",
    "categorical_transformer = OneHotEncoder(handle_unknown=\"ignore\")\n",
    "\n",
    "preprocessor = ColumnTransformer(\n",
    "    transformers=[\n",
    "        (\"num\", numeric_transformer, num_feats),\n",
    "        (\"cat\", categorical_transformer, cat_feats),\n",
    "    ], remainder='drop'\n",
    ")\n",
    "\n",
    "preprocessing_pipeline = Pipeline(steps=[(\"preprocessor\", preprocessor)])\n",
    "preprocessing_pipeline = preprocessing_pipeline.fit(df_train)"
   ]
  },
  {
   "cell_type": "code",
   "execution_count": 9,
   "metadata": {
    "id": "BGmborGVjcfA"
   },
   "outputs": [],
   "source": [
    "X_train = preprocessing_pipeline.transform(df_train)\n",
    "y_train = df_train[label_col].values\n",
    "X_test = preprocessing_pipeline.transform(df_test)\n",
    "y_test = df_test[label_col].values"
   ]
  },
  {
   "cell_type": "markdown",
   "metadata": {
    "id": "vUcrdxjljcfA"
   },
   "source": [
    "## Train Neural Network\n",
    "\n",
    "Now let's train our model. We will train a neural network using tf.keras"
   ]
  },
  {
   "cell_type": "code",
   "execution_count": 10,
   "metadata": {
    "id": "wafNJ1mfjcfA"
   },
   "outputs": [],
   "source": [
    "import tensorflow as tf\n",
    "\n",
    "def get_model(n_inputs, layer_1, layer_2, layer_3, optimizer, *args, **kwargs):\n",
    "    model = tf.keras.Sequential()\n",
    "    model.add(tf.keras.layers.Dense(layer_1, input_shape=(n_inputs,)))\n",
    "    model.add(tf.keras.layers.Dense(layer_2))\n",
    "    model.add(tf.keras.layers.Dense(layer_3))\n",
    "    model.add(tf.keras.layers.Dense(1, activation='sigmoid'))\n",
    "    \n",
    "    model.compile(\n",
    "        optimizer=optimizer, \n",
    "        loss='binary_crossentropy',\n",
    "        metrics=[tf.keras.metrics.Recall()]\n",
    "    )\n",
    "    \n",
    "    return model"
   ]
  },
  {
   "cell_type": "code",
   "execution_count": 11,
   "metadata": {
    "id": "qb6QwF8xjcfA"
   },
   "outputs": [],
   "source": [
    "optimizer = tf.keras.optimizers.Adam(learning_rate=0.0001)\n",
    "model = get_model(n_inputs=X_train.shape[1], layer_1=20, layer_2=20, layer_3=15, optimizer=optimizer)\n",
    "hist = model.fit(X_train, y_train, \n",
    "  epochs=10, \n",
    "  class_weight={0:1, 1:5}, \n",
    "  validation_data=(X_test, y_test),\n",
    "  verbose=0\n",
    " )"
   ]
  },
  {
   "cell_type": "code",
   "execution_count": 12,
   "metadata": {
    "colab": {
     "base_uri": "https://localhost:8080/"
    },
    "id": "QsPY6kSljcfA",
    "outputId": "beed5af4-3b6b-4562-8f66-0397d42860ca"
   },
   "outputs": [
    {
     "name": "stdout",
     "output_type": "stream",
     "text": [
      "282/282 [==============================] - 1s 5ms/step - loss: 0.6978 - recall: 0.7767\n"
     ]
    },
    {
     "data": {
      "text/plain": [
       "[0.6977816224098206, 0.7766749262809753]"
      ]
     },
     "execution_count": 12,
     "metadata": {},
     "output_type": "execute_result"
    }
   ],
   "source": [
    "model.evaluate(X_test, y_test)"
   ]
  },
  {
   "cell_type": "markdown",
   "metadata": {
    "id": "smbHGlfWjcfB"
   },
   "source": [
    "## Shuffle Importance Explainer\n",
    "\n",
    "Let's obtain the feature importance using the `ShuffleImportanceExplainer`. First, we need to create a function that uses our model make the inference and compute a metric. In this case, we compute the log-loss, which lower values means better performance. When using metrics where higher values means better performance it is recommended to return the negative of that metric to make the results more intuitive"
   ]
  },
  {
   "cell_type": "code",
   "execution_count": 13,
   "metadata": {
    "id": "LOUgZ3d7jcfB"
   },
   "outputs": [],
   "source": [
    "def model_inference_function(data, target):\n",
    "    X = preprocessing_pipeline.transform(data)\n",
    "    loss, recall = model.evaluate(X, data[target].values, verbose=0)\n",
    "    return loss"
   ]
  },
  {
   "cell_type": "code",
   "execution_count": 14,
   "metadata": {
    "colab": {
     "base_uri": "https://localhost:8080/",
     "height": 430
    },
    "id": "BT1AGyBqjcfB",
    "outputId": "42b266f9-b74a-46c3-eda2-4c2877311ee8"
   },
   "outputs": [
    {
     "data": {
      "image/png": "[encoded data removed]",
      "text/plain": [
       "<Figure size 640x480 with 1 Axes>"
      ]
     },
     "metadata": {},
     "output_type": "display_data"
    }
   ],
   "source": [
    "from mercury.explainability.explainers import ShuffleImportanceExplainer\n",
    "\n",
    "explainer = ShuffleImportanceExplainer(model_inference_function)\n",
    "explanation = explainer.explain(df_test, target=label_col)\n",
    "ax = explanation.plot()"
   ]
  },
  {
   "cell_type": "markdown",
   "metadata": {
    "id": "K7AhGHlJjcfB"
   },
   "source": [
    "We see that the most important feature is `PAY_0`. By default, the `ShuffleImportanceExplainer` normalizes the importances so they will be in the range [0,1]. After the normalization, the feature importances are showing us an approximation of the relative importance of the features. In the example, the feature `PAY_0` is the most important (if you shuffle it, the logloss has the largest increase) and the feature `BILL_AMT2` might have around 20% of the importance of `age`.\n",
    "\n",
    "It is possible to not perform this normalization. In that case, the feature importances will be the value returned by the `model_inference_function` when shuffling that feature. This is useful when you want to see the impact of shuffling each feature in the metric instead of the relative importances. Let's see an example:"
   ]
  },
  {
   "cell_type": "code",
   "execution_count": 15,
   "metadata": {
    "colab": {
     "base_uri": "https://localhost:8080/",
     "height": 430
    },
    "id": "5x4Wch1_jcfB",
    "outputId": "91c60712-14e9-4878-a9f6-a36c5f6f4ae7"
   },
   "outputs": [
    {
     "data": {
      "image/png": "[encoded data removed]",
      "text/plain": [
       "<Figure size 640x480 with 1 Axes>"
      ]
     },
     "metadata": {},
     "output_type": "display_data"
    }
   ],
   "source": [
    "explainer = ShuffleImportanceExplainer(model_inference_function, normalize=False)\n",
    "explanation = explainer.explain(df_test, target=label_col)\n",
    "ax = explanation.plot()"
   ]
  },
  {
   "cell_type": "markdown",
   "metadata": {
    "id": "2JlkbX60jcfB"
   },
   "source": [
    "In this plot, is difficult to appreciate any differences between features. We can pass the option `limit_axis_x=True` to the `plot()` method in order to make the differences more appreciable:"
   ]
  },
  {
   "cell_type": "code",
   "execution_count": 16,
   "metadata": {
    "colab": {
     "base_uri": "https://localhost:8080/",
     "height": 430
    },
    "id": "CohMIGOjjcfB",
    "outputId": "0f07a2b5-e66f-4670-912e-52810fbbf839"
   },
   "outputs": [
    {
     "data": {
      "image/png": "[encoded data removed]",
      "text/plain": [
       "<Figure size 640x480 with 1 Axes>"
      ]
     },
     "metadata": {},
     "output_type": "display_data"
    }
   ],
   "source": [
    "ax = explanation.plot(limit_axis_x=True)"
   ]
  },
  {
   "cell_type": "markdown",
   "metadata": {
    "id": "6whF3bpGjcfB"
   },
   "source": [
    "If we look at the x-axis, we get a loss lower than 0.70 when shuffling the feature `PAY_AMT4`, while the loss increases to more than 0.75 when shuffling the feature `PAY_0`\n",
    "(Note: the exact numbers may change in different executions)\n",
    "\n",
    "We can also call the `get_importances` method in order to obtain the exact values:"
   ]
  },
  {
   "cell_type": "code",
   "execution_count": 17,
   "metadata": {
    "colab": {
     "base_uri": "https://localhost:8080/"
    },
    "id": "90XUIOQIjcfB",
    "outputId": "5b73a26a-1935-49bf-a7a8-f6dd4a79b057"
   },
   "outputs": [
    {
     "data": {
      "text/plain": [
       "[('PAY_0', 0.7550156116485596),\n",
       " ('BILL_AMT2', 0.7092148065567017),\n",
       " ('BILL_AMT1', 0.701025128364563),\n",
       " ('PAY_2', 0.6995028257369995),\n",
       " ('BILL_AMT5', 0.6989589929580688),\n",
       " ('PAY_3', 0.6987423300743103),\n",
       " ('BILL_AMT3', 0.698727011680603),\n",
       " ('BILL_AMT4', 0.698687732219696),\n",
       " ('AGE', 0.6986038088798523),\n",
       " ('SEX', 0.6985769271850586),\n",
       " ('MARRIAGE', 0.6984201669692993),\n",
       " ('PAY_4', 0.698383092880249),\n",
       " ('PAY_5', 0.6980672478675842),\n",
       " ('BILL_AMT6', 0.6979629993438721),\n",
       " ('LIMIT_BAL', 0.6978285312652588),\n",
       " ('PAY_6', 0.6977996230125427),\n",
       " ('PAY_AMT1', 0.6977673768997192),\n",
       " ('PAY_AMT3', 0.6977387070655823),\n",
       " ('PAY_AMT5', 0.6975966095924377),\n",
       " ('PAY_AMT6', 0.6975542902946472),\n",
       " ('EDUCATION', 0.6975104808807373),\n",
       " ('PAY_AMT2', 0.6971491575241089),\n",
       " ('PAY_AMT4', 0.69694584608078)]"
      ]
     },
     "execution_count": 17,
     "metadata": {},
     "output_type": "execute_result"
    }
   ],
   "source": [
    "explanation.get_importances()"
   ]
  },
  {
   "cell_type": "markdown",
   "metadata": {
    "id": "4Psxz2w3jcfB"
   },
   "source": [
    "It is also possible to use the `ShuffleImportanceExplainer` with Pyspark models. In that case, you should modify the `model_inference_function` to compute the metric from the pyspark model predictions."
   ]
  },
  {
   "cell_type": "markdown",
   "metadata": {
    "id": "fbWghfdZlFxc"
   },
   "source": [
    "## References\n",
    "\n",
    "[1] Yeh, I. C., & Lien, C. H. (2009). The comparisons of data mining techniques for the predictive accuracy of probability of default of credit card clients. Expert Systems with Applications, 36(2), 2473-2480. https://archive.ics.uci.edu/ml/datasets/default+of+credit+card+clients"
   ]
  },
  {
   "cell_type": "code",
   "execution_count": null,
   "metadata": {
    "id": "6wAwY-ySlI0w"
   },
   "outputs": [],
   "source": []
  }
 ],
 "metadata": {
  "colab": {
   "provenance": []
  },
  "kernelspec": {
   "display_name": "Python 3 (ipykernel)",
   "language": "python",
   "name": "python3"
  },
  "language_info": {
   "codemirror_mode": {
    "name": "ipython",
    "version": 3
   },
   "file_extension": ".py",
   "mimetype": "text/x-python",
   "name": "python",
   "nbconvert_exporter": "python",
   "pygments_lexer": "ipython3",
   "version": "3.9.13"
  }
 },
 "nbformat": 4,
 "nbformat_minor": 1
}
